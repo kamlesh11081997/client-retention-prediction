{
 "cells": [
  {
   "cell_type": "code",
   "execution_count": 2,
   "metadata": {},
   "outputs": [],
   "source": [
    "import numpy as np\n",
    "import pandas as pd\n",
    "import seaborn as sns\n",
    "import matplotlib.pyplot as plt\n",
    "from sklearn.preprocessing import LabelEncoder"
   ]
  },
  {
   "cell_type": "markdown",
   "metadata": {},
   "source": [
    "### Importing the dataset"
   ]
  },
  {
   "cell_type": "code",
   "execution_count": 4,
   "metadata": {},
   "outputs": [],
   "source": [
    "train=pd.read_csv('train.csv')\n",
    "test=pd.read_csv('test.csv')"
   ]
  },
  {
   "cell_type": "code",
   "execution_count": 5,
   "metadata": {},
   "outputs": [
    {
     "data": {
      "text/html": [
       "<div>\n",
       "<style scoped>\n",
       "    .dataframe tbody tr th:only-of-type {\n",
       "        vertical-align: middle;\n",
       "    }\n",
       "\n",
       "    .dataframe tbody tr th {\n",
       "        vertical-align: top;\n",
       "    }\n",
       "\n",
       "    .dataframe thead th {\n",
       "        text-align: right;\n",
       "    }\n",
       "</style>\n",
       "<table border=\"1\" class=\"dataframe\">\n",
       "  <thead>\n",
       "    <tr style=\"text-align: right;\">\n",
       "      <th></th>\n",
       "      <th>Client ID</th>\n",
       "      <th>Company ID</th>\n",
       "      <th>Client Contract Starting Month</th>\n",
       "      <th>Flag 1</th>\n",
       "      <th>Flag 2</th>\n",
       "      <th>Flag 3</th>\n",
       "      <th>Flag 4</th>\n",
       "      <th>Flag 5</th>\n",
       "      <th>Flag 6</th>\n",
       "      <th>Activity 1 Time Period 11</th>\n",
       "      <th>...</th>\n",
       "      <th>Activity 8 Time Period 8</th>\n",
       "      <th>Activity 8 Time Period 7</th>\n",
       "      <th>Activity 8 Time Period 6</th>\n",
       "      <th>Activity 8 Time Period 5</th>\n",
       "      <th>Activity 8 Time Period 4</th>\n",
       "      <th>Activity 8 Time Period 3</th>\n",
       "      <th>Activity 8 Time Period 2</th>\n",
       "      <th>Activity 8 Time Period 1</th>\n",
       "      <th>Activity 8 Time Period 0</th>\n",
       "      <th>Client Retention Flag</th>\n",
       "    </tr>\n",
       "  </thead>\n",
       "  <tbody>\n",
       "    <tr>\n",
       "      <th>0</th>\n",
       "      <td>10004519380</td>\n",
       "      <td>6294937</td>\n",
       "      <td>Jun</td>\n",
       "      <td>Multi Year</td>\n",
       "      <td>2</td>\n",
       "      <td>Yes</td>\n",
       "      <td>Unknown</td>\n",
       "      <td>8</td>\n",
       "      <td>Manufacturing</td>\n",
       "      <td>24</td>\n",
       "      <td>...</td>\n",
       "      <td>0</td>\n",
       "      <td>0</td>\n",
       "      <td>0</td>\n",
       "      <td>0</td>\n",
       "      <td>0</td>\n",
       "      <td>0</td>\n",
       "      <td>0</td>\n",
       "      <td>1</td>\n",
       "      <td>0</td>\n",
       "      <td>Yes</td>\n",
       "    </tr>\n",
       "    <tr>\n",
       "      <th>1</th>\n",
       "      <td>10004521476</td>\n",
       "      <td>6293796</td>\n",
       "      <td>Mar</td>\n",
       "      <td>Multi Year</td>\n",
       "      <td>7</td>\n",
       "      <td>No</td>\n",
       "      <td>Yes</td>\n",
       "      <td>6</td>\n",
       "      <td>Government</td>\n",
       "      <td>9</td>\n",
       "      <td>...</td>\n",
       "      <td>0</td>\n",
       "      <td>0</td>\n",
       "      <td>0</td>\n",
       "      <td>0</td>\n",
       "      <td>0</td>\n",
       "      <td>1</td>\n",
       "      <td>0</td>\n",
       "      <td>0</td>\n",
       "      <td>0</td>\n",
       "      <td>No</td>\n",
       "    </tr>\n",
       "  </tbody>\n",
       "</table>\n",
       "<p>2 rows × 106 columns</p>\n",
       "</div>"
      ],
      "text/plain": [
       "     Client ID  Company ID Client Contract Starting Month      Flag 1  Flag 2  \\\n",
       "0  10004519380     6294937                            Jun  Multi Year       2   \n",
       "1  10004521476     6293796                            Mar  Multi Year       7   \n",
       "\n",
       "  Flag 3   Flag 4  Flag 5         Flag 6  Activity 1 Time Period 11  ...  \\\n",
       "0    Yes  Unknown       8  Manufacturing                         24  ...   \n",
       "1     No      Yes       6     Government                          9  ...   \n",
       "\n",
       "   Activity 8 Time Period 8  Activity 8 Time Period 7  \\\n",
       "0                         0                         0   \n",
       "1                         0                         0   \n",
       "\n",
       "   Activity 8 Time Period 6  Activity 8 Time Period 5  \\\n",
       "0                         0                         0   \n",
       "1                         0                         0   \n",
       "\n",
       "   Activity 8 Time Period 4  Activity 8 Time Period 3  \\\n",
       "0                         0                         0   \n",
       "1                         0                         1   \n",
       "\n",
       "   Activity 8 Time Period 2  Activity 8 Time Period 1  \\\n",
       "0                         0                         1   \n",
       "1                         0                         0   \n",
       "\n",
       "   Activity 8 Time Period 0  Client Retention Flag  \n",
       "0                         0                    Yes  \n",
       "1                         0                     No  \n",
       "\n",
       "[2 rows x 106 columns]"
      ]
     },
     "execution_count": 5,
     "metadata": {},
     "output_type": "execute_result"
    }
   ],
   "source": [
    "train.head(2)"
   ]
  },
  {
   "cell_type": "code",
   "execution_count": 6,
   "metadata": {},
   "outputs": [
    {
     "data": {
      "text/html": [
       "<div>\n",
       "<style scoped>\n",
       "    .dataframe tbody tr th:only-of-type {\n",
       "        vertical-align: middle;\n",
       "    }\n",
       "\n",
       "    .dataframe tbody tr th {\n",
       "        vertical-align: top;\n",
       "    }\n",
       "\n",
       "    .dataframe thead th {\n",
       "        text-align: right;\n",
       "    }\n",
       "</style>\n",
       "<table border=\"1\" class=\"dataframe\">\n",
       "  <thead>\n",
       "    <tr style=\"text-align: right;\">\n",
       "      <th></th>\n",
       "      <th>Client ID</th>\n",
       "      <th>Company ID</th>\n",
       "      <th>Client Contract Starting Month</th>\n",
       "      <th>Flag 1</th>\n",
       "      <th>Flag 2</th>\n",
       "      <th>Flag 3</th>\n",
       "      <th>Flag 4</th>\n",
       "      <th>Flag 5</th>\n",
       "      <th>Flag 6</th>\n",
       "      <th>Activity 1 Time Period 11</th>\n",
       "      <th>...</th>\n",
       "      <th>Activity 8 Time Period 9</th>\n",
       "      <th>Activity 8 Time Period 8</th>\n",
       "      <th>Activity 8 Time Period 7</th>\n",
       "      <th>Activity 8 Time Period 6</th>\n",
       "      <th>Activity 8 Time Period 5</th>\n",
       "      <th>Activity 8 Time Period 4</th>\n",
       "      <th>Activity 8 Time Period 3</th>\n",
       "      <th>Activity 8 Time Period 2</th>\n",
       "      <th>Activity 8 Time Period 1</th>\n",
       "      <th>Activity 8 Time Period 0</th>\n",
       "    </tr>\n",
       "  </thead>\n",
       "  <tbody>\n",
       "    <tr>\n",
       "      <th>0</th>\n",
       "      <td>10004520718</td>\n",
       "      <td>6295189</td>\n",
       "      <td>Apr</td>\n",
       "      <td>Single Year</td>\n",
       "      <td>10</td>\n",
       "      <td>Yes</td>\n",
       "      <td>Yes</td>\n",
       "      <td>8</td>\n",
       "      <td>Manufacturing</td>\n",
       "      <td>47</td>\n",
       "      <td>...</td>\n",
       "      <td>0</td>\n",
       "      <td>0</td>\n",
       "      <td>0</td>\n",
       "      <td>0</td>\n",
       "      <td>0</td>\n",
       "      <td>0</td>\n",
       "      <td>0</td>\n",
       "      <td>0</td>\n",
       "      <td>0</td>\n",
       "      <td>0</td>\n",
       "    </tr>\n",
       "    <tr>\n",
       "      <th>1</th>\n",
       "      <td>10004519187</td>\n",
       "      <td>6295450</td>\n",
       "      <td>May</td>\n",
       "      <td>Single Year</td>\n",
       "      <td>2</td>\n",
       "      <td>Yes</td>\n",
       "      <td>Unknown</td>\n",
       "      <td>3</td>\n",
       "      <td>Education</td>\n",
       "      <td>116</td>\n",
       "      <td>...</td>\n",
       "      <td>0</td>\n",
       "      <td>0</td>\n",
       "      <td>0</td>\n",
       "      <td>0</td>\n",
       "      <td>0</td>\n",
       "      <td>0</td>\n",
       "      <td>0</td>\n",
       "      <td>1</td>\n",
       "      <td>0</td>\n",
       "      <td>0</td>\n",
       "    </tr>\n",
       "  </tbody>\n",
       "</table>\n",
       "<p>2 rows × 105 columns</p>\n",
       "</div>"
      ],
      "text/plain": [
       "     Client ID  Company ID Client Contract Starting Month       Flag 1  \\\n",
       "0  10004520718     6295189                            Apr  Single Year   \n",
       "1  10004519187     6295450                            May  Single Year   \n",
       "\n",
       "   Flag 2 Flag 3   Flag 4  Flag 5         Flag 6  Activity 1 Time Period 11  \\\n",
       "0      10    Yes      Yes       8  Manufacturing                         47   \n",
       "1       2    Yes  Unknown       3      Education                        116   \n",
       "\n",
       "   ...  Activity 8 Time Period 9  Activity 8 Time Period 8  \\\n",
       "0  ...                         0                         0   \n",
       "1  ...                         0                         0   \n",
       "\n",
       "   Activity 8 Time Period 7  Activity 8 Time Period 6  \\\n",
       "0                         0                         0   \n",
       "1                         0                         0   \n",
       "\n",
       "   Activity 8 Time Period 5  Activity 8 Time Period 4  \\\n",
       "0                         0                         0   \n",
       "1                         0                         0   \n",
       "\n",
       "   Activity 8 Time Period 3  Activity 8 Time Period 2  \\\n",
       "0                         0                         0   \n",
       "1                         0                         1   \n",
       "\n",
       "   Activity 8 Time Period 1  Activity 8 Time Period 0  \n",
       "0                         0                         0  \n",
       "1                         0                         0  \n",
       "\n",
       "[2 rows x 105 columns]"
      ]
     },
     "execution_count": 6,
     "metadata": {},
     "output_type": "execute_result"
    }
   ],
   "source": [
    "test.head(2)"
   ]
  },
  {
   "cell_type": "markdown",
   "metadata": {},
   "source": [
    "#  Data cleaning"
   ]
  },
  {
   "cell_type": "code",
   "execution_count": 7,
   "metadata": {},
   "outputs": [
    {
     "data": {
      "text/html": [
       "<div>\n",
       "<style scoped>\n",
       "    .dataframe tbody tr th:only-of-type {\n",
       "        vertical-align: middle;\n",
       "    }\n",
       "\n",
       "    .dataframe tbody tr th {\n",
       "        vertical-align: top;\n",
       "    }\n",
       "\n",
       "    .dataframe thead th {\n",
       "        text-align: right;\n",
       "    }\n",
       "</style>\n",
       "<table border=\"1\" class=\"dataframe\">\n",
       "  <thead>\n",
       "    <tr style=\"text-align: right;\">\n",
       "      <th></th>\n",
       "      <th>Client ID</th>\n",
       "      <th>Company ID</th>\n",
       "      <th>Flag 2</th>\n",
       "      <th>Flag 5</th>\n",
       "      <th>Activity 1 Time Period 11</th>\n",
       "      <th>Activity 1 Time Period 10</th>\n",
       "      <th>Activity 1 Time Period 9</th>\n",
       "      <th>Activity 1 Time Period 8</th>\n",
       "      <th>Activity 1 Time Period 7</th>\n",
       "      <th>Activity 1 Time Period 6</th>\n",
       "      <th>...</th>\n",
       "      <th>Activity 8 Time Period 9</th>\n",
       "      <th>Activity 8 Time Period 8</th>\n",
       "      <th>Activity 8 Time Period 7</th>\n",
       "      <th>Activity 8 Time Period 6</th>\n",
       "      <th>Activity 8 Time Period 5</th>\n",
       "      <th>Activity 8 Time Period 4</th>\n",
       "      <th>Activity 8 Time Period 3</th>\n",
       "      <th>Activity 8 Time Period 2</th>\n",
       "      <th>Activity 8 Time Period 1</th>\n",
       "      <th>Activity 8 Time Period 0</th>\n",
       "    </tr>\n",
       "  </thead>\n",
       "  <tbody>\n",
       "    <tr>\n",
       "      <th>count</th>\n",
       "      <td>8.766000e+03</td>\n",
       "      <td>8.766000e+03</td>\n",
       "      <td>8766.000000</td>\n",
       "      <td>8766.000000</td>\n",
       "      <td>8766.000000</td>\n",
       "      <td>8766.000000</td>\n",
       "      <td>8766.000000</td>\n",
       "      <td>8766.000000</td>\n",
       "      <td>8766.000000</td>\n",
       "      <td>8766.000000</td>\n",
       "      <td>...</td>\n",
       "      <td>8766.000000</td>\n",
       "      <td>8766.000000</td>\n",
       "      <td>8766.000000</td>\n",
       "      <td>8766.000000</td>\n",
       "      <td>8766.000000</td>\n",
       "      <td>8766.000000</td>\n",
       "      <td>8766.000000</td>\n",
       "      <td>8766.000000</td>\n",
       "      <td>8766.000000</td>\n",
       "      <td>8766.000000</td>\n",
       "    </tr>\n",
       "    <tr>\n",
       "      <th>mean</th>\n",
       "      <td>1.000452e+10</td>\n",
       "      <td>6.293817e+06</td>\n",
       "      <td>4.132101</td>\n",
       "      <td>9.001141</td>\n",
       "      <td>11.413187</td>\n",
       "      <td>11.797171</td>\n",
       "      <td>11.479808</td>\n",
       "      <td>11.837212</td>\n",
       "      <td>11.889802</td>\n",
       "      <td>11.852384</td>\n",
       "      <td>...</td>\n",
       "      <td>0.022701</td>\n",
       "      <td>0.032740</td>\n",
       "      <td>0.028519</td>\n",
       "      <td>0.030459</td>\n",
       "      <td>0.028862</td>\n",
       "      <td>0.049966</td>\n",
       "      <td>0.042094</td>\n",
       "      <td>0.042893</td>\n",
       "      <td>0.037988</td>\n",
       "      <td>0.033311</td>\n",
       "    </tr>\n",
       "    <tr>\n",
       "      <th>std</th>\n",
       "      <td>3.602220e+03</td>\n",
       "      <td>1.132758e+03</td>\n",
       "      <td>2.367710</td>\n",
       "      <td>5.136960</td>\n",
       "      <td>35.461407</td>\n",
       "      <td>62.115059</td>\n",
       "      <td>30.590044</td>\n",
       "      <td>30.707721</td>\n",
       "      <td>30.484649</td>\n",
       "      <td>29.658165</td>\n",
       "      <td>...</td>\n",
       "      <td>0.168373</td>\n",
       "      <td>0.197994</td>\n",
       "      <td>0.197783</td>\n",
       "      <td>0.197205</td>\n",
       "      <td>0.203702</td>\n",
       "      <td>0.276915</td>\n",
       "      <td>0.256233</td>\n",
       "      <td>0.254536</td>\n",
       "      <td>0.233124</td>\n",
       "      <td>0.201612</td>\n",
       "    </tr>\n",
       "    <tr>\n",
       "      <th>min</th>\n",
       "      <td>1.000451e+10</td>\n",
       "      <td>6.292019e+06</td>\n",
       "      <td>1.000000</td>\n",
       "      <td>1.000000</td>\n",
       "      <td>0.000000</td>\n",
       "      <td>0.000000</td>\n",
       "      <td>0.000000</td>\n",
       "      <td>0.000000</td>\n",
       "      <td>0.000000</td>\n",
       "      <td>0.000000</td>\n",
       "      <td>...</td>\n",
       "      <td>0.000000</td>\n",
       "      <td>0.000000</td>\n",
       "      <td>0.000000</td>\n",
       "      <td>0.000000</td>\n",
       "      <td>0.000000</td>\n",
       "      <td>0.000000</td>\n",
       "      <td>0.000000</td>\n",
       "      <td>0.000000</td>\n",
       "      <td>0.000000</td>\n",
       "      <td>0.000000</td>\n",
       "    </tr>\n",
       "    <tr>\n",
       "      <th>25%</th>\n",
       "      <td>1.000451e+10</td>\n",
       "      <td>6.292837e+06</td>\n",
       "      <td>2.000000</td>\n",
       "      <td>3.000000</td>\n",
       "      <td>0.000000</td>\n",
       "      <td>0.000000</td>\n",
       "      <td>0.000000</td>\n",
       "      <td>0.000000</td>\n",
       "      <td>0.000000</td>\n",
       "      <td>0.000000</td>\n",
       "      <td>...</td>\n",
       "      <td>0.000000</td>\n",
       "      <td>0.000000</td>\n",
       "      <td>0.000000</td>\n",
       "      <td>0.000000</td>\n",
       "      <td>0.000000</td>\n",
       "      <td>0.000000</td>\n",
       "      <td>0.000000</td>\n",
       "      <td>0.000000</td>\n",
       "      <td>0.000000</td>\n",
       "      <td>0.000000</td>\n",
       "    </tr>\n",
       "    <tr>\n",
       "      <th>50%</th>\n",
       "      <td>1.000452e+10</td>\n",
       "      <td>6.293743e+06</td>\n",
       "      <td>3.000000</td>\n",
       "      <td>8.000000</td>\n",
       "      <td>1.000000</td>\n",
       "      <td>2.000000</td>\n",
       "      <td>2.000000</td>\n",
       "      <td>2.000000</td>\n",
       "      <td>2.000000</td>\n",
       "      <td>2.000000</td>\n",
       "      <td>...</td>\n",
       "      <td>0.000000</td>\n",
       "      <td>0.000000</td>\n",
       "      <td>0.000000</td>\n",
       "      <td>0.000000</td>\n",
       "      <td>0.000000</td>\n",
       "      <td>0.000000</td>\n",
       "      <td>0.000000</td>\n",
       "      <td>0.000000</td>\n",
       "      <td>0.000000</td>\n",
       "      <td>0.000000</td>\n",
       "    </tr>\n",
       "    <tr>\n",
       "      <th>75%</th>\n",
       "      <td>1.000452e+10</td>\n",
       "      <td>6.294677e+06</td>\n",
       "      <td>6.000000</td>\n",
       "      <td>15.000000</td>\n",
       "      <td>10.000000</td>\n",
       "      <td>10.000000</td>\n",
       "      <td>10.000000</td>\n",
       "      <td>11.000000</td>\n",
       "      <td>12.000000</td>\n",
       "      <td>12.000000</td>\n",
       "      <td>...</td>\n",
       "      <td>0.000000</td>\n",
       "      <td>0.000000</td>\n",
       "      <td>0.000000</td>\n",
       "      <td>0.000000</td>\n",
       "      <td>0.000000</td>\n",
       "      <td>0.000000</td>\n",
       "      <td>0.000000</td>\n",
       "      <td>0.000000</td>\n",
       "      <td>0.000000</td>\n",
       "      <td>0.000000</td>\n",
       "    </tr>\n",
       "    <tr>\n",
       "      <th>max</th>\n",
       "      <td>1.000452e+10</td>\n",
       "      <td>6.296180e+06</td>\n",
       "      <td>13.000000</td>\n",
       "      <td>21.000000</td>\n",
       "      <td>1472.000000</td>\n",
       "      <td>5064.000000</td>\n",
       "      <td>904.000000</td>\n",
       "      <td>896.000000</td>\n",
       "      <td>856.000000</td>\n",
       "      <td>656.000000</td>\n",
       "      <td>...</td>\n",
       "      <td>4.000000</td>\n",
       "      <td>3.000000</td>\n",
       "      <td>4.000000</td>\n",
       "      <td>6.000000</td>\n",
       "      <td>5.000000</td>\n",
       "      <td>6.000000</td>\n",
       "      <td>5.000000</td>\n",
       "      <td>6.000000</td>\n",
       "      <td>5.000000</td>\n",
       "      <td>4.000000</td>\n",
       "    </tr>\n",
       "  </tbody>\n",
       "</table>\n",
       "<p>8 rows × 100 columns</p>\n",
       "</div>"
      ],
      "text/plain": [
       "          Client ID    Company ID       Flag 2       Flag 5  \\\n",
       "count  8.766000e+03  8.766000e+03  8766.000000  8766.000000   \n",
       "mean   1.000452e+10  6.293817e+06     4.132101     9.001141   \n",
       "std    3.602220e+03  1.132758e+03     2.367710     5.136960   \n",
       "min    1.000451e+10  6.292019e+06     1.000000     1.000000   \n",
       "25%    1.000451e+10  6.292837e+06     2.000000     3.000000   \n",
       "50%    1.000452e+10  6.293743e+06     3.000000     8.000000   \n",
       "75%    1.000452e+10  6.294677e+06     6.000000    15.000000   \n",
       "max    1.000452e+10  6.296180e+06    13.000000    21.000000   \n",
       "\n",
       "       Activity 1 Time Period 11  Activity 1 Time Period 10  \\\n",
       "count                8766.000000                8766.000000   \n",
       "mean                   11.413187                  11.797171   \n",
       "std                    35.461407                  62.115059   \n",
       "min                     0.000000                   0.000000   \n",
       "25%                     0.000000                   0.000000   \n",
       "50%                     1.000000                   2.000000   \n",
       "75%                    10.000000                  10.000000   \n",
       "max                  1472.000000                5064.000000   \n",
       "\n",
       "       Activity 1 Time Period 9  Activity 1 Time Period 8  \\\n",
       "count               8766.000000               8766.000000   \n",
       "mean                  11.479808                 11.837212   \n",
       "std                   30.590044                 30.707721   \n",
       "min                    0.000000                  0.000000   \n",
       "25%                    0.000000                  0.000000   \n",
       "50%                    2.000000                  2.000000   \n",
       "75%                   10.000000                 11.000000   \n",
       "max                  904.000000                896.000000   \n",
       "\n",
       "       Activity 1 Time Period 7  Activity 1 Time Period 6  ...  \\\n",
       "count               8766.000000               8766.000000  ...   \n",
       "mean                  11.889802                 11.852384  ...   \n",
       "std                   30.484649                 29.658165  ...   \n",
       "min                    0.000000                  0.000000  ...   \n",
       "25%                    0.000000                  0.000000  ...   \n",
       "50%                    2.000000                  2.000000  ...   \n",
       "75%                   12.000000                 12.000000  ...   \n",
       "max                  856.000000                656.000000  ...   \n",
       "\n",
       "       Activity 8 Time Period 9  Activity 8 Time Period 8  \\\n",
       "count               8766.000000               8766.000000   \n",
       "mean                   0.022701                  0.032740   \n",
       "std                    0.168373                  0.197994   \n",
       "min                    0.000000                  0.000000   \n",
       "25%                    0.000000                  0.000000   \n",
       "50%                    0.000000                  0.000000   \n",
       "75%                    0.000000                  0.000000   \n",
       "max                    4.000000                  3.000000   \n",
       "\n",
       "       Activity 8 Time Period 7  Activity 8 Time Period 6  \\\n",
       "count               8766.000000               8766.000000   \n",
       "mean                   0.028519                  0.030459   \n",
       "std                    0.197783                  0.197205   \n",
       "min                    0.000000                  0.000000   \n",
       "25%                    0.000000                  0.000000   \n",
       "50%                    0.000000                  0.000000   \n",
       "75%                    0.000000                  0.000000   \n",
       "max                    4.000000                  6.000000   \n",
       "\n",
       "       Activity 8 Time Period 5  Activity 8 Time Period 4  \\\n",
       "count               8766.000000               8766.000000   \n",
       "mean                   0.028862                  0.049966   \n",
       "std                    0.203702                  0.276915   \n",
       "min                    0.000000                  0.000000   \n",
       "25%                    0.000000                  0.000000   \n",
       "50%                    0.000000                  0.000000   \n",
       "75%                    0.000000                  0.000000   \n",
       "max                    5.000000                  6.000000   \n",
       "\n",
       "       Activity 8 Time Period 3  Activity 8 Time Period 2  \\\n",
       "count               8766.000000               8766.000000   \n",
       "mean                   0.042094                  0.042893   \n",
       "std                    0.256233                  0.254536   \n",
       "min                    0.000000                  0.000000   \n",
       "25%                    0.000000                  0.000000   \n",
       "50%                    0.000000                  0.000000   \n",
       "75%                    0.000000                  0.000000   \n",
       "max                    5.000000                  6.000000   \n",
       "\n",
       "       Activity 8 Time Period 1  Activity 8 Time Period 0  \n",
       "count               8766.000000               8766.000000  \n",
       "mean                   0.037988                  0.033311  \n",
       "std                    0.233124                  0.201612  \n",
       "min                    0.000000                  0.000000  \n",
       "25%                    0.000000                  0.000000  \n",
       "50%                    0.000000                  0.000000  \n",
       "75%                    0.000000                  0.000000  \n",
       "max                    5.000000                  4.000000  \n",
       "\n",
       "[8 rows x 100 columns]"
      ]
     },
     "execution_count": 7,
     "metadata": {},
     "output_type": "execute_result"
    }
   ],
   "source": [
    "train.describe()"
   ]
  },
  {
   "cell_type": "code",
   "execution_count": 8,
   "metadata": {},
   "outputs": [],
   "source": [
    "# train.isna().sum()"
   ]
  },
  {
   "cell_type": "code",
   "execution_count": 9,
   "metadata": {},
   "outputs": [
    {
     "name": "stdout",
     "output_type": "stream",
     "text": [
      "<class 'pandas.core.frame.DataFrame'>\n",
      "RangeIndex: 8766 entries, 0 to 8765\n",
      "Data columns (total 106 columns):\n",
      "Client ID                         int64\n",
      "Company ID                        int64\n",
      "Client Contract Starting Month    object\n",
      "Flag 1                            object\n",
      "Flag 2                            int64\n",
      "Flag 3                            object\n",
      "Flag 4                            object\n",
      "Flag 5                            int64\n",
      "Flag 6                            object\n",
      "Activity 1 Time Period 11         int64\n",
      "Activity 1 Time Period 10         int64\n",
      "Activity 1 Time Period 9          int64\n",
      "Activity 1 Time Period 8          int64\n",
      "Activity 1 Time Period 7          int64\n",
      "Activity 1 Time Period 6          int64\n",
      "Activity 1 Time Period 5          int64\n",
      "Activity 1 Time Period 4          int64\n",
      "Activity 1 Time Period 3          int64\n",
      "Activity 1 Time Period 2          int64\n",
      "Activity 1 Time Period 1          int64\n",
      "Activity 1 Time Period 0          int64\n",
      "Activity 2 Time Period 11         int64\n",
      "Activity 2 Time Period 10         int64\n",
      "Activity 2 Time Period 9          int64\n",
      "Activity 2 Time Period 8          int64\n",
      "Activity 2 Time Period 7          int64\n",
      "Activity 2 Time Period 6          int64\n",
      "Activity 2 Time Period 5          int64\n",
      "Activity 2 Time Period 4          int64\n",
      "Activity 2 Time Period 3          int64\n",
      "Activity 2 Time Period 2          int64\n",
      "Activity 2 Time Period 1          int64\n",
      "Activity 2 Time Period 0          int64\n",
      "Activity 3 Time Period 11         int64\n",
      "Activity 3 Time Period 10         int64\n",
      "Activity 3 Time Period 9          int64\n",
      "Activity 3 Time Period 8          int64\n",
      "Activity 3 Time Period 7          int64\n",
      "Activity 3 Time Period 6          int64\n",
      "Activity 3 Time Period 5          int64\n",
      "Activity 3 Time Period 4          int64\n",
      "Activity 3 Time Period 3          int64\n",
      "Activity 3 Time Period 2          int64\n",
      "Activity 3 Time Period 1          int64\n",
      "Activity 3 Time Period 0          int64\n",
      "Activity 4 Time Period 11         int64\n",
      "Activity 4 Time Period 10         int64\n",
      "Activity 4 Time Period 9          int64\n",
      "Activity 4 Time Period 8          int64\n",
      "Activity 4 Time Period 7          int64\n",
      "Activity 4 Time Period 6          int64\n",
      "Activity 4 Time Period 5          int64\n",
      "Activity 4 Time Period 4          int64\n",
      "Activity 4 Time Period 3          int64\n",
      "Activity 4 Time Period 2          int64\n",
      "Activity 4 Time Period 1          int64\n",
      "Activity 4 Time Period 0          int64\n",
      "Activity 5 Time Period  11        int64\n",
      "Activity 5 Time Period  10        int64\n",
      "Activity 5 Time Period  9         int64\n",
      "Activity 5 Time Period  8         int64\n",
      "Activity 5 Time Period  7         int64\n",
      "Activity 5 Time Period  6         int64\n",
      "Activity 5 Time Period  5         int64\n",
      "Activity 5 Time Period  4         int64\n",
      "Activity 5 Time Period  3         int64\n",
      "Activity 5 Time Period  2         int64\n",
      "Activity 5 Time Period  1         int64\n",
      "Activity 5 Time Period  0         int64\n",
      "Activity 6 Time Period  11        int64\n",
      "Activity 6 Time Period  10        int64\n",
      "Activity 6 Time Period  9         int64\n",
      "Activity 6 Time Period  8         int64\n",
      "Activity 6 Time Period  7         int64\n",
      "Activity 6 Time Period  6         int64\n",
      "Activity 6 Time Period  5         int64\n",
      "Activity 6 Time Period  4         int64\n",
      "Activity 6 Time Period  3         int64\n",
      "Activity 6 Time Period  2         int64\n",
      "Activity 6 Time Period  1         int64\n",
      "Activity 6 Time Period  0         int64\n",
      "Activity 7 Time Period  11        int64\n",
      "Activity 7 Time Period  10        int64\n",
      "Activity 7 Time Period  9         int64\n",
      "Activity 7 Time Period  8         int64\n",
      "Activity 7 Time Period  7         int64\n",
      "Activity 7 Time Period  6         int64\n",
      "Activity 7 Time Period  5         int64\n",
      "Activity 7 Time Period  4         int64\n",
      "Activity 7 Time Period  3         int64\n",
      "Activity 7 Time Period  2         int64\n",
      "Activity 7 Time Period  1         int64\n",
      "Activity 7 Time Period  0         int64\n",
      "Activity 8 Time Period 11         int64\n",
      "Activity 8 Time Period 10         int64\n",
      "Activity 8 Time Period 9          int64\n",
      "Activity 8 Time Period 8          int64\n",
      "Activity 8 Time Period 7          int64\n",
      "Activity 8 Time Period 6          int64\n",
      "Activity 8 Time Period 5          int64\n",
      "Activity 8 Time Period 4          int64\n",
      "Activity 8 Time Period 3          int64\n",
      "Activity 8 Time Period 2          int64\n",
      "Activity 8 Time Period 1          int64\n",
      "Activity 8 Time Period 0          int64\n",
      "Client Retention Flag             object\n",
      "dtypes: int64(100), object(6)\n",
      "memory usage: 7.1+ MB\n"
     ]
    }
   ],
   "source": [
    "train.info(verbose=True)"
   ]
  },
  {
   "cell_type": "code",
   "execution_count": 10,
   "metadata": {},
   "outputs": [],
   "source": [
    "train_continuous=train.copy().drop(columns=['Client Contract Starting Month','Flag 1','Flag 3','Flag 4','Flag 6','Client Retention Flag'])"
   ]
  },
  {
   "cell_type": "code",
   "execution_count": 11,
   "metadata": {},
   "outputs": [
    {
     "data": {
      "text/html": [
       "<div>\n",
       "<style scoped>\n",
       "    .dataframe tbody tr th:only-of-type {\n",
       "        vertical-align: middle;\n",
       "    }\n",
       "\n",
       "    .dataframe tbody tr th {\n",
       "        vertical-align: top;\n",
       "    }\n",
       "\n",
       "    .dataframe thead th {\n",
       "        text-align: right;\n",
       "    }\n",
       "</style>\n",
       "<table border=\"1\" class=\"dataframe\">\n",
       "  <thead>\n",
       "    <tr style=\"text-align: right;\">\n",
       "      <th></th>\n",
       "      <th>Client ID</th>\n",
       "      <th>Company ID</th>\n",
       "      <th>Flag 2</th>\n",
       "      <th>Flag 5</th>\n",
       "      <th>Activity 1 Time Period 11</th>\n",
       "      <th>Activity 1 Time Period 10</th>\n",
       "      <th>Activity 1 Time Period 9</th>\n",
       "      <th>Activity 1 Time Period 8</th>\n",
       "      <th>Activity 1 Time Period 7</th>\n",
       "      <th>Activity 1 Time Period 6</th>\n",
       "      <th>...</th>\n",
       "      <th>Activity 8 Time Period 9</th>\n",
       "      <th>Activity 8 Time Period 8</th>\n",
       "      <th>Activity 8 Time Period 7</th>\n",
       "      <th>Activity 8 Time Period 6</th>\n",
       "      <th>Activity 8 Time Period 5</th>\n",
       "      <th>Activity 8 Time Period 4</th>\n",
       "      <th>Activity 8 Time Period 3</th>\n",
       "      <th>Activity 8 Time Period 2</th>\n",
       "      <th>Activity 8 Time Period 1</th>\n",
       "      <th>Activity 8 Time Period 0</th>\n",
       "    </tr>\n",
       "  </thead>\n",
       "  <tbody>\n",
       "    <tr>\n",
       "      <th>0</th>\n",
       "      <td>10004519380</td>\n",
       "      <td>6294937</td>\n",
       "      <td>2</td>\n",
       "      <td>8</td>\n",
       "      <td>24</td>\n",
       "      <td>16</td>\n",
       "      <td>20</td>\n",
       "      <td>52</td>\n",
       "      <td>0</td>\n",
       "      <td>14</td>\n",
       "      <td>...</td>\n",
       "      <td>0</td>\n",
       "      <td>0</td>\n",
       "      <td>0</td>\n",
       "      <td>0</td>\n",
       "      <td>0</td>\n",
       "      <td>0</td>\n",
       "      <td>0</td>\n",
       "      <td>0</td>\n",
       "      <td>1</td>\n",
       "      <td>0</td>\n",
       "    </tr>\n",
       "    <tr>\n",
       "      <th>1</th>\n",
       "      <td>10004521476</td>\n",
       "      <td>6293796</td>\n",
       "      <td>7</td>\n",
       "      <td>6</td>\n",
       "      <td>9</td>\n",
       "      <td>2</td>\n",
       "      <td>0</td>\n",
       "      <td>18</td>\n",
       "      <td>27</td>\n",
       "      <td>0</td>\n",
       "      <td>...</td>\n",
       "      <td>0</td>\n",
       "      <td>0</td>\n",
       "      <td>0</td>\n",
       "      <td>0</td>\n",
       "      <td>0</td>\n",
       "      <td>0</td>\n",
       "      <td>1</td>\n",
       "      <td>0</td>\n",
       "      <td>0</td>\n",
       "      <td>0</td>\n",
       "    </tr>\n",
       "    <tr>\n",
       "      <th>2</th>\n",
       "      <td>10004515403</td>\n",
       "      <td>6293911</td>\n",
       "      <td>2</td>\n",
       "      <td>15</td>\n",
       "      <td>1</td>\n",
       "      <td>11</td>\n",
       "      <td>12</td>\n",
       "      <td>0</td>\n",
       "      <td>11</td>\n",
       "      <td>13</td>\n",
       "      <td>...</td>\n",
       "      <td>0</td>\n",
       "      <td>0</td>\n",
       "      <td>0</td>\n",
       "      <td>0</td>\n",
       "      <td>0</td>\n",
       "      <td>0</td>\n",
       "      <td>0</td>\n",
       "      <td>0</td>\n",
       "      <td>0</td>\n",
       "      <td>0</td>\n",
       "    </tr>\n",
       "    <tr>\n",
       "      <th>3</th>\n",
       "      <td>10004511478</td>\n",
       "      <td>6293048</td>\n",
       "      <td>2</td>\n",
       "      <td>15</td>\n",
       "      <td>1</td>\n",
       "      <td>0</td>\n",
       "      <td>0</td>\n",
       "      <td>0</td>\n",
       "      <td>2</td>\n",
       "      <td>0</td>\n",
       "      <td>...</td>\n",
       "      <td>0</td>\n",
       "      <td>0</td>\n",
       "      <td>0</td>\n",
       "      <td>0</td>\n",
       "      <td>0</td>\n",
       "      <td>0</td>\n",
       "      <td>0</td>\n",
       "      <td>0</td>\n",
       "      <td>0</td>\n",
       "      <td>0</td>\n",
       "    </tr>\n",
       "    <tr>\n",
       "      <th>4</th>\n",
       "      <td>10004516858</td>\n",
       "      <td>6294364</td>\n",
       "      <td>7</td>\n",
       "      <td>9</td>\n",
       "      <td>16</td>\n",
       "      <td>14</td>\n",
       "      <td>48</td>\n",
       "      <td>6</td>\n",
       "      <td>6</td>\n",
       "      <td>0</td>\n",
       "      <td>...</td>\n",
       "      <td>0</td>\n",
       "      <td>0</td>\n",
       "      <td>0</td>\n",
       "      <td>0</td>\n",
       "      <td>0</td>\n",
       "      <td>0</td>\n",
       "      <td>0</td>\n",
       "      <td>0</td>\n",
       "      <td>0</td>\n",
       "      <td>0</td>\n",
       "    </tr>\n",
       "  </tbody>\n",
       "</table>\n",
       "<p>5 rows × 100 columns</p>\n",
       "</div>"
      ],
      "text/plain": [
       "     Client ID  Company ID  Flag 2  Flag 5  Activity 1 Time Period 11  \\\n",
       "0  10004519380     6294937       2       8                         24   \n",
       "1  10004521476     6293796       7       6                          9   \n",
       "2  10004515403     6293911       2      15                          1   \n",
       "3  10004511478     6293048       2      15                          1   \n",
       "4  10004516858     6294364       7       9                         16   \n",
       "\n",
       "   Activity 1 Time Period 10  Activity 1 Time Period 9  \\\n",
       "0                         16                        20   \n",
       "1                          2                         0   \n",
       "2                         11                        12   \n",
       "3                          0                         0   \n",
       "4                         14                        48   \n",
       "\n",
       "   Activity 1 Time Period 8  Activity 1 Time Period 7  \\\n",
       "0                        52                         0   \n",
       "1                        18                        27   \n",
       "2                         0                        11   \n",
       "3                         0                         2   \n",
       "4                         6                         6   \n",
       "\n",
       "   Activity 1 Time Period 6  ...  Activity 8 Time Period 9  \\\n",
       "0                        14  ...                         0   \n",
       "1                         0  ...                         0   \n",
       "2                        13  ...                         0   \n",
       "3                         0  ...                         0   \n",
       "4                         0  ...                         0   \n",
       "\n",
       "   Activity 8 Time Period 8  Activity 8 Time Period 7  \\\n",
       "0                         0                         0   \n",
       "1                         0                         0   \n",
       "2                         0                         0   \n",
       "3                         0                         0   \n",
       "4                         0                         0   \n",
       "\n",
       "   Activity 8 Time Period 6  Activity 8 Time Period 5  \\\n",
       "0                         0                         0   \n",
       "1                         0                         0   \n",
       "2                         0                         0   \n",
       "3                         0                         0   \n",
       "4                         0                         0   \n",
       "\n",
       "   Activity 8 Time Period 4  Activity 8 Time Period 3  \\\n",
       "0                         0                         0   \n",
       "1                         0                         1   \n",
       "2                         0                         0   \n",
       "3                         0                         0   \n",
       "4                         0                         0   \n",
       "\n",
       "   Activity 8 Time Period 2  Activity 8 Time Period 1  \\\n",
       "0                         0                         1   \n",
       "1                         0                         0   \n",
       "2                         0                         0   \n",
       "3                         0                         0   \n",
       "4                         0                         0   \n",
       "\n",
       "   Activity 8 Time Period 0  \n",
       "0                         0  \n",
       "1                         0  \n",
       "2                         0  \n",
       "3                         0  \n",
       "4                         0  \n",
       "\n",
       "[5 rows x 100 columns]"
      ]
     },
     "execution_count": 11,
     "metadata": {},
     "output_type": "execute_result"
    }
   ],
   "source": [
    "train_continuous.head()"
   ]
  },
  {
   "cell_type": "markdown",
   "metadata": {},
   "source": [
    "# Histogram Plotting of numerical columns"
   ]
  },
  {
   "cell_type": "code",
   "execution_count": 359,
   "metadata": {},
   "outputs": [],
   "source": [
    "# plt.suptitle(\"Histogram plot of numerical columns\",fontsize=20)\n",
    "# for i in range(1,train_plot.shape[1]+1):\n",
    "#     plt.subplot(3,3,i)\n",
    "#     f=plt.gca()\n",
    "#     f.set_title(train_plot.columns.values[i-1])\n",
    "#     vals=np.size(train_plot.iloc[:,i-1].unique())\n",
    "#     plt.hist(train_plot.iloc[:,i-1],bins=vals,color='#3F5D7D')"
   ]
  },
  {
   "cell_type": "code",
   "execution_count": 445,
   "metadata": {},
   "outputs": [
    {
     "data": {
      "text/plain": [
       "<matplotlib.axes._subplots.AxesSubplot at 0x25987f6d780>"
      ]
     },
     "execution_count": 445,
     "metadata": {},
     "output_type": "execute_result"
    },
    {
     "data": {
      "image/png": "[encoded data removed]",
      "text/plain": [
       "<Figure size 432x288 with 1 Axes>"
      ]
     },
     "metadata": {
      "needs_background": "light"
     },
     "output_type": "display_data"
    }
   ],
   "source": [
    "sns.countplot(train_continuous['Activity 8 Time Period 10'])"
   ]
  },
  {
   "cell_type": "code",
   "execution_count": 361,
   "metadata": {},
   "outputs": [],
   "source": [
    "# train_plot.corrwith(train['Client Retention Flag']).plot.bar(figsize=(20,10),title='plot',rot=45,grid=True)\n",
    "# for column in train_plot.columns:\n",
    "#     print(train_plot[column].value_counts())"
   ]
  },
  {
   "cell_type": "markdown",
   "metadata": {},
   "source": [
    "#  Analysis of categorical variable"
   ]
  },
  {
   "cell_type": "code",
   "execution_count": 362,
   "metadata": {},
   "outputs": [],
   "source": [
    "categorical_variable=pd.DataFrame(train,columns=['Client Contract Starting Month','Flag 1','Flag 3','Flag 4','Flag 6','Client Retention Flag'])"
   ]
  },
  {
   "cell_type": "code",
   "execution_count": 363,
   "metadata": {},
   "outputs": [
    {
     "name": "stdout",
     "output_type": "stream",
     "text": [
      "Jun    1322\n",
      "Mar    1235\n",
      "Dec    1086\n",
      "Sep     839\n",
      "Feb     679\n",
      "May     630\n",
      "Oct     611\n",
      "Jan     529\n",
      "Aug     527\n",
      "Apr     508\n",
      "Jul     436\n",
      "Nov     364\n",
      "Name: Client Contract Starting Month, dtype: int64\n",
      "\n",
      "\n",
      "Single Year    5947\n",
      "Multi Year     2819\n",
      "Name: Flag 1, dtype: int64\n",
      "\n",
      "\n",
      "Yes    4481\n",
      "No     4284\n",
      "C         1\n",
      "Name: Flag 3, dtype: int64\n",
      "\n",
      "\n",
      "Unknown    6858\n",
      "Yes        1904\n",
      "No            4\n",
      "Name: Flag 4, dtype: int64\n",
      "\n",
      "\n",
      "Education                 2510\n",
      "Manufacturing             2114\n",
      "Technology and Telecom    1494\n",
      "Government                 986\n",
      "Banking, Finance & Ins     659\n",
      "Healthcare                 354\n",
      "Services                   333\n",
      "Energy & Utilities         183\n",
      "Retail                     103\n",
      "Unknown                     30\n",
      "Name: Flag 6, dtype: int64\n",
      "\n",
      "\n",
      "Yes    6170\n",
      "No     2596\n",
      "Name: Client Retention Flag, dtype: int64\n",
      "\n",
      "\n"
     ]
    }
   ],
   "source": [
    "for cols in categorical_variable.columns:\n",
    "    print(categorical_variable[cols].value_counts())\n",
    "    print(\"\\n\")"
   ]
  },
  {
   "cell_type": "markdown",
   "metadata": {},
   "source": [
    "# Dealing with categorical variable and perparing training data"
   ]
  },
  {
   "cell_type": "markdown",
   "metadata": {},
   "source": [
    "Preparing train data"
   ]
  },
  {
   "cell_type": "code",
   "execution_count": 57,
   "metadata": {},
   "outputs": [],
   "source": [
    "x_train=train.drop(columns=['Client ID','Client Retention Flag'])\n",
    "y_train=train['Client Retention Flag']"
   ]
  },
  {
   "cell_type": "markdown",
   "metadata": {},
   "source": [
    "Preparing test data"
   ]
  },
  {
   "cell_type": "code",
   "execution_count": 58,
   "metadata": {},
   "outputs": [],
   "source": [
    "x_test=test.drop(columns=['Client ID'])"
   ]
  },
  {
   "cell_type": "code",
   "execution_count": 59,
   "metadata": {},
   "outputs": [],
   "source": [
    "# Import label encoder \n",
    "from sklearn import preprocessing \n",
    "# label_encoder object knows how to understand word labels. \n",
    "label_encoder = preprocessing.LabelEncoder() \n",
    "# Encode labels in column 'species'. \n",
    "y_train= label_encoder.fit_transform(train['Client Retention Flag']) \n",
    "#y_train=pd.Series(y_train)"
   ]
  },
  {
   "cell_type": "code",
   "execution_count": 60,
   "metadata": {},
   "outputs": [],
   "source": [
    "#one hot encoding of categorical variables\n",
    "x_train=pd.get_dummies(x_train)\n",
    "x_test=pd.get_dummies(x_test)"
   ]
  },
  {
   "cell_type": "code",
   "execution_count": 61,
   "metadata": {},
   "outputs": [
    {
     "name": "stdout",
     "output_type": "stream",
     "text": [
      "(8766, 129)\n",
      "(3756, 129)\n"
     ]
    }
   ],
   "source": [
    "print(x_train.shape)\n",
    "print(x_test.shape)"
   ]
  },
  {
   "cell_type": "markdown",
   "metadata": {},
   "source": [
    "# Checking collinearity with target variable"
   ]
  },
  {
   "cell_type": "code",
   "execution_count": 85,
   "metadata": {},
   "outputs": [],
   "source": [
    "df=train.drop(columns=['Client ID','Client Contract Starting Month','Flag 1','Flag 3','Flag 4','Flag 6'])\n",
    "df['Client Retention Flag']=y_train"
   ]
  },
  {
   "cell_type": "code",
   "execution_count": 86,
   "metadata": {},
   "outputs": [
    {
     "data": {
      "text/html": [
       "<div>\n",
       "<style scoped>\n",
       "    .dataframe tbody tr th:only-of-type {\n",
       "        vertical-align: middle;\n",
       "    }\n",
       "\n",
       "    .dataframe tbody tr th {\n",
       "        vertical-align: top;\n",
       "    }\n",
       "\n",
       "    .dataframe thead th {\n",
       "        text-align: right;\n",
       "    }\n",
       "</style>\n",
       "<table border=\"1\" class=\"dataframe\">\n",
       "  <thead>\n",
       "    <tr style=\"text-align: right;\">\n",
       "      <th></th>\n",
       "      <th>Company ID</th>\n",
       "      <th>Flag 2</th>\n",
       "      <th>Flag 5</th>\n",
       "      <th>Activity 1 Time Period 11</th>\n",
       "      <th>Activity 1 Time Period 10</th>\n",
       "      <th>Activity 1 Time Period 9</th>\n",
       "      <th>Activity 1 Time Period 8</th>\n",
       "      <th>Activity 1 Time Period 7</th>\n",
       "      <th>Activity 1 Time Period 6</th>\n",
       "      <th>Activity 1 Time Period 5</th>\n",
       "      <th>...</th>\n",
       "      <th>Activity 8 Time Period 8</th>\n",
       "      <th>Activity 8 Time Period 7</th>\n",
       "      <th>Activity 8 Time Period 6</th>\n",
       "      <th>Activity 8 Time Period 5</th>\n",
       "      <th>Activity 8 Time Period 4</th>\n",
       "      <th>Activity 8 Time Period 3</th>\n",
       "      <th>Activity 8 Time Period 2</th>\n",
       "      <th>Activity 8 Time Period 1</th>\n",
       "      <th>Activity 8 Time Period 0</th>\n",
       "      <th>Client Retention Flag</th>\n",
       "    </tr>\n",
       "  </thead>\n",
       "  <tbody>\n",
       "    <tr>\n",
       "      <th>0</th>\n",
       "      <td>6294937</td>\n",
       "      <td>2</td>\n",
       "      <td>8</td>\n",
       "      <td>24</td>\n",
       "      <td>16</td>\n",
       "      <td>20</td>\n",
       "      <td>52</td>\n",
       "      <td>0</td>\n",
       "      <td>14</td>\n",
       "      <td>94</td>\n",
       "      <td>...</td>\n",
       "      <td>0</td>\n",
       "      <td>0</td>\n",
       "      <td>0</td>\n",
       "      <td>0</td>\n",
       "      <td>0</td>\n",
       "      <td>0</td>\n",
       "      <td>0</td>\n",
       "      <td>1</td>\n",
       "      <td>0</td>\n",
       "      <td>1</td>\n",
       "    </tr>\n",
       "    <tr>\n",
       "      <th>1</th>\n",
       "      <td>6293796</td>\n",
       "      <td>7</td>\n",
       "      <td>6</td>\n",
       "      <td>9</td>\n",
       "      <td>2</td>\n",
       "      <td>0</td>\n",
       "      <td>18</td>\n",
       "      <td>27</td>\n",
       "      <td>0</td>\n",
       "      <td>26</td>\n",
       "      <td>...</td>\n",
       "      <td>0</td>\n",
       "      <td>0</td>\n",
       "      <td>0</td>\n",
       "      <td>0</td>\n",
       "      <td>0</td>\n",
       "      <td>1</td>\n",
       "      <td>0</td>\n",
       "      <td>0</td>\n",
       "      <td>0</td>\n",
       "      <td>0</td>\n",
       "    </tr>\n",
       "    <tr>\n",
       "      <th>2</th>\n",
       "      <td>6293911</td>\n",
       "      <td>2</td>\n",
       "      <td>15</td>\n",
       "      <td>1</td>\n",
       "      <td>11</td>\n",
       "      <td>12</td>\n",
       "      <td>0</td>\n",
       "      <td>11</td>\n",
       "      <td>13</td>\n",
       "      <td>5</td>\n",
       "      <td>...</td>\n",
       "      <td>0</td>\n",
       "      <td>0</td>\n",
       "      <td>0</td>\n",
       "      <td>0</td>\n",
       "      <td>0</td>\n",
       "      <td>0</td>\n",
       "      <td>0</td>\n",
       "      <td>0</td>\n",
       "      <td>0</td>\n",
       "      <td>1</td>\n",
       "    </tr>\n",
       "    <tr>\n",
       "      <th>3</th>\n",
       "      <td>6293048</td>\n",
       "      <td>2</td>\n",
       "      <td>15</td>\n",
       "      <td>1</td>\n",
       "      <td>0</td>\n",
       "      <td>0</td>\n",
       "      <td>0</td>\n",
       "      <td>2</td>\n",
       "      <td>0</td>\n",
       "      <td>10</td>\n",
       "      <td>...</td>\n",
       "      <td>0</td>\n",
       "      <td>0</td>\n",
       "      <td>0</td>\n",
       "      <td>0</td>\n",
       "      <td>0</td>\n",
       "      <td>0</td>\n",
       "      <td>0</td>\n",
       "      <td>0</td>\n",
       "      <td>0</td>\n",
       "      <td>0</td>\n",
       "    </tr>\n",
       "    <tr>\n",
       "      <th>4</th>\n",
       "      <td>6294364</td>\n",
       "      <td>7</td>\n",
       "      <td>9</td>\n",
       "      <td>16</td>\n",
       "      <td>14</td>\n",
       "      <td>48</td>\n",
       "      <td>6</td>\n",
       "      <td>6</td>\n",
       "      <td>0</td>\n",
       "      <td>8</td>\n",
       "      <td>...</td>\n",
       "      <td>0</td>\n",
       "      <td>0</td>\n",
       "      <td>0</td>\n",
       "      <td>0</td>\n",
       "      <td>0</td>\n",
       "      <td>0</td>\n",
       "      <td>0</td>\n",
       "      <td>0</td>\n",
       "      <td>0</td>\n",
       "      <td>1</td>\n",
       "    </tr>\n",
       "  </tbody>\n",
       "</table>\n",
       "<p>5 rows × 100 columns</p>\n",
       "</div>"
      ],
      "text/plain": [
       "   Company ID  Flag 2  Flag 5  Activity 1 Time Period 11  \\\n",
       "0     6294937       2       8                         24   \n",
       "1     6293796       7       6                          9   \n",
       "2     6293911       2      15                          1   \n",
       "3     6293048       2      15                          1   \n",
       "4     6294364       7       9                         16   \n",
       "\n",
       "   Activity 1 Time Period 10  Activity 1 Time Period 9  \\\n",
       "0                         16                        20   \n",
       "1                          2                         0   \n",
       "2                         11                        12   \n",
       "3                          0                         0   \n",
       "4                         14                        48   \n",
       "\n",
       "   Activity 1 Time Period 8  Activity 1 Time Period 7  \\\n",
       "0                        52                         0   \n",
       "1                        18                        27   \n",
       "2                         0                        11   \n",
       "3                         0                         2   \n",
       "4                         6                         6   \n",
       "\n",
       "   Activity 1 Time Period 6  Activity 1 Time Period 5  ...  \\\n",
       "0                        14                        94  ...   \n",
       "1                         0                        26  ...   \n",
       "2                        13                         5  ...   \n",
       "3                         0                        10  ...   \n",
       "4                         0                         8  ...   \n",
       "\n",
       "   Activity 8 Time Period 8  Activity 8 Time Period 7  \\\n",
       "0                         0                         0   \n",
       "1                         0                         0   \n",
       "2                         0                         0   \n",
       "3                         0                         0   \n",
       "4                         0                         0   \n",
       "\n",
       "   Activity 8 Time Period 6  Activity 8 Time Period 5  \\\n",
       "0                         0                         0   \n",
       "1                         0                         0   \n",
       "2                         0                         0   \n",
       "3                         0                         0   \n",
       "4                         0                         0   \n",
       "\n",
       "   Activity 8 Time Period 4  Activity 8 Time Period 3  \\\n",
       "0                         0                         0   \n",
       "1                         0                         1   \n",
       "2                         0                         0   \n",
       "3                         0                         0   \n",
       "4                         0                         0   \n",
       "\n",
       "   Activity 8 Time Period 2  Activity 8 Time Period 1  \\\n",
       "0                         0                         1   \n",
       "1                         0                         0   \n",
       "2                         0                         0   \n",
       "3                         0                         0   \n",
       "4                         0                         0   \n",
       "\n",
       "   Activity 8 Time Period 0  Client Retention Flag  \n",
       "0                         0                      1  \n",
       "1                         0                      0  \n",
       "2                         0                      1  \n",
       "3                         0                      0  \n",
       "4                         0                      1  \n",
       "\n",
       "[5 rows x 100 columns]"
      ]
     },
     "execution_count": 86,
     "metadata": {},
     "output_type": "execute_result"
    }
   ],
   "source": [
    "df.head()"
   ]
  },
  {
   "cell_type": "code",
   "execution_count": 95,
   "metadata": {},
   "outputs": [
    {
     "data": {
      "text/html": [
       "<div>\n",
       "<style scoped>\n",
       "    .dataframe tbody tr th:only-of-type {\n",
       "        vertical-align: middle;\n",
       "    }\n",
       "\n",
       "    .dataframe tbody tr th {\n",
       "        vertical-align: top;\n",
       "    }\n",
       "\n",
       "    .dataframe thead th {\n",
       "        text-align: right;\n",
       "    }\n",
       "</style>\n",
       "<table border=\"1\" class=\"dataframe\">\n",
       "  <thead>\n",
       "    <tr style=\"text-align: right;\">\n",
       "      <th></th>\n",
       "      <th>correlation</th>\n",
       "    </tr>\n",
       "  </thead>\n",
       "  <tbody>\n",
       "    <tr>\n",
       "      <th>Client Retention Flag</th>\n",
       "      <td>1.000000</td>\n",
       "    </tr>\n",
       "    <tr>\n",
       "      <th>Activity 1 Time Period 5</th>\n",
       "      <td>0.148919</td>\n",
       "    </tr>\n",
       "    <tr>\n",
       "      <th>Activity 1 Time Period 2</th>\n",
       "      <td>0.145976</td>\n",
       "    </tr>\n",
       "    <tr>\n",
       "      <th>Activity 1 Time Period 3</th>\n",
       "      <td>0.144634</td>\n",
       "    </tr>\n",
       "    <tr>\n",
       "      <th>Activity 1 Time Period 4</th>\n",
       "      <td>0.140824</td>\n",
       "    </tr>\n",
       "  </tbody>\n",
       "</table>\n",
       "</div>"
      ],
      "text/plain": [
       "                          correlation\n",
       "Client Retention Flag        1.000000\n",
       "Activity 1 Time Period 5     0.148919\n",
       "Activity 1 Time Period 2     0.145976\n",
       "Activity 1 Time Period 3     0.144634\n",
       "Activity 1 Time Period 4     0.140824"
      ]
     },
     "execution_count": 95,
     "metadata": {},
     "output_type": "execute_result"
    }
   ],
   "source": [
    "featureCorr = df[df.columns[0:100]].corr()['Client Retention Flag'][:].to_frame()\n",
    "featureCorr.rename(columns={'Client Retention Flag':'correlation'},inplace=True)\n",
    "featureCorr.sort_values(by=['correlation'],ascending=False).head()"
   ]
  },
  {
   "cell_type": "markdown",
   "metadata": {},
   "source": []
  },
  {
   "cell_type": "markdown",
   "metadata": {},
   "source": [
    "# Checking collinearity and correlation activity wise"
   ]
  },
  {
   "cell_type": "code",
   "execution_count": 76,
   "metadata": {},
   "outputs": [
    {
     "data": {
      "text/html": [
       "<div>\n",
       "<style scoped>\n",
       "    .dataframe tbody tr th:only-of-type {\n",
       "        vertical-align: middle;\n",
       "    }\n",
       "\n",
       "    .dataframe tbody tr th {\n",
       "        vertical-align: top;\n",
       "    }\n",
       "\n",
       "    .dataframe thead th {\n",
       "        text-align: right;\n",
       "    }\n",
       "</style>\n",
       "<table border=\"1\" class=\"dataframe\">\n",
       "  <thead>\n",
       "    <tr style=\"text-align: right;\">\n",
       "      <th></th>\n",
       "      <th>Activity 1</th>\n",
       "      <th>Activity 2</th>\n",
       "      <th>Activity 3</th>\n",
       "      <th>Activity 4</th>\n",
       "      <th>Activity 5</th>\n",
       "      <th>Activity 6</th>\n",
       "      <th>Activity 7</th>\n",
       "      <th>Activity 8</th>\n",
       "      <th>Client Retention Flag</th>\n",
       "    </tr>\n",
       "  </thead>\n",
       "  <tbody>\n",
       "    <tr>\n",
       "      <th>0</th>\n",
       "      <td>352</td>\n",
       "      <td>50</td>\n",
       "      <td>11</td>\n",
       "      <td>5</td>\n",
       "      <td>0</td>\n",
       "      <td>0</td>\n",
       "      <td>0</td>\n",
       "      <td>4</td>\n",
       "      <td>1</td>\n",
       "    </tr>\n",
       "    <tr>\n",
       "      <th>1</th>\n",
       "      <td>96</td>\n",
       "      <td>2</td>\n",
       "      <td>0</td>\n",
       "      <td>2</td>\n",
       "      <td>0</td>\n",
       "      <td>0</td>\n",
       "      <td>0</td>\n",
       "      <td>1</td>\n",
       "      <td>0</td>\n",
       "    </tr>\n",
       "    <tr>\n",
       "      <th>2</th>\n",
       "      <td>113</td>\n",
       "      <td>10</td>\n",
       "      <td>0</td>\n",
       "      <td>4</td>\n",
       "      <td>0</td>\n",
       "      <td>0</td>\n",
       "      <td>0</td>\n",
       "      <td>0</td>\n",
       "      <td>1</td>\n",
       "    </tr>\n",
       "    <tr>\n",
       "      <th>3</th>\n",
       "      <td>14</td>\n",
       "      <td>0</td>\n",
       "      <td>0</td>\n",
       "      <td>3</td>\n",
       "      <td>1</td>\n",
       "      <td>0</td>\n",
       "      <td>1</td>\n",
       "      <td>1</td>\n",
       "      <td>0</td>\n",
       "    </tr>\n",
       "    <tr>\n",
       "      <th>4</th>\n",
       "      <td>214</td>\n",
       "      <td>16</td>\n",
       "      <td>0</td>\n",
       "      <td>6</td>\n",
       "      <td>0</td>\n",
       "      <td>0</td>\n",
       "      <td>0</td>\n",
       "      <td>0</td>\n",
       "      <td>1</td>\n",
       "    </tr>\n",
       "  </tbody>\n",
       "</table>\n",
       "</div>"
      ],
      "text/plain": [
       "   Activity 1  Activity 2  Activity 3  Activity 4  Activity 5  Activity 6  \\\n",
       "0         352          50          11           5           0           0   \n",
       "1          96           2           0           2           0           0   \n",
       "2         113          10           0           4           0           0   \n",
       "3          14           0           0           3           1           0   \n",
       "4         214          16           0           6           0           0   \n",
       "\n",
       "   Activity 7  Activity 8  Client Retention Flag  \n",
       "0           0           4                      1  \n",
       "1           0           1                      0  \n",
       "2           0           0                      1  \n",
       "3           1           1                      0  \n",
       "4           0           0                      1  "
      ]
     },
     "execution_count": 76,
     "metadata": {},
     "output_type": "execute_result"
    }
   ],
   "source": [
    "#Analysis of activity by years\n",
    "activitydf = pd.DataFrame()\n",
    "activitydf['Activity 1']=train_continuous.iloc[:,4:16].sum(axis=1)\n",
    "activitydf['Activity 2']=train_continuous.iloc[:,16:28].sum(axis=1)\n",
    "activitydf['Activity 3']=train_continuous.iloc[:,28:40].sum(axis=1)\n",
    "activitydf['Activity 4']=train_continuous.iloc[:,40:52].sum(axis=1)\n",
    "activitydf['Activity 5']=train_continuous.iloc[:,52:64].sum(axis=1)\n",
    "activitydf['Activity 6']=train_continuous.iloc[:,64:76].sum(axis=1)\n",
    "activitydf['Activity 7']=train_continuous.iloc[:,76:88].sum(axis=1)\n",
    "activitydf['Activity 8']=train_continuous.iloc[:,88:100].sum(axis=1)\n",
    "activitydf['Client Retention Flag']=y_train\n",
    "activitydf.head()"
   ]
  },
  {
   "cell_type": "code",
   "execution_count": 78,
   "metadata": {},
   "outputs": [
    {
     "data": {
      "text/html": [
       "<div>\n",
       "<style scoped>\n",
       "    .dataframe tbody tr th:only-of-type {\n",
       "        vertical-align: middle;\n",
       "    }\n",
       "\n",
       "    .dataframe tbody tr th {\n",
       "        vertical-align: top;\n",
       "    }\n",
       "\n",
       "    .dataframe thead th {\n",
       "        text-align: right;\n",
       "    }\n",
       "</style>\n",
       "<table border=\"1\" class=\"dataframe\">\n",
       "  <thead>\n",
       "    <tr style=\"text-align: right;\">\n",
       "      <th></th>\n",
       "      <th>Client Retention Flag</th>\n",
       "    </tr>\n",
       "  </thead>\n",
       "  <tbody>\n",
       "    <tr>\n",
       "      <th>Client Retention Flag</th>\n",
       "      <td>1.000000</td>\n",
       "    </tr>\n",
       "    <tr>\n",
       "      <th>Activity 1</th>\n",
       "      <td>0.174135</td>\n",
       "    </tr>\n",
       "    <tr>\n",
       "      <th>Activity 4</th>\n",
       "      <td>0.087143</td>\n",
       "    </tr>\n",
       "    <tr>\n",
       "      <th>Activity 3</th>\n",
       "      <td>0.079984</td>\n",
       "    </tr>\n",
       "    <tr>\n",
       "      <th>Activity 7</th>\n",
       "      <td>0.079391</td>\n",
       "    </tr>\n",
       "    <tr>\n",
       "      <th>Activity 5</th>\n",
       "      <td>0.077065</td>\n",
       "    </tr>\n",
       "    <tr>\n",
       "      <th>Activity 8</th>\n",
       "      <td>0.069216</td>\n",
       "    </tr>\n",
       "    <tr>\n",
       "      <th>Activity 6</th>\n",
       "      <td>0.059341</td>\n",
       "    </tr>\n",
       "    <tr>\n",
       "      <th>Activity 2</th>\n",
       "      <td>0.057872</td>\n",
       "    </tr>\n",
       "  </tbody>\n",
       "</table>\n",
       "</div>"
      ],
      "text/plain": [
       "                       Client Retention Flag\n",
       "Client Retention Flag               1.000000\n",
       "Activity 1                          0.174135\n",
       "Activity 4                          0.087143\n",
       "Activity 3                          0.079984\n",
       "Activity 7                          0.079391\n",
       "Activity 5                          0.077065\n",
       "Activity 8                          0.069216\n",
       "Activity 6                          0.059341\n",
       "Activity 2                          0.057872"
      ]
     },
     "execution_count": 78,
     "metadata": {},
     "output_type": "execute_result"
    }
   ],
   "source": [
    "activityCorr=activitydf[activitydf.columns[0:9]].corr()['Client Retention Flag'][:].to_frame()\n",
    "activityCorr.sort_values(by=['Client Retention Flag'],ascending=False)"
   ]
  },
  {
   "cell_type": "markdown",
   "metadata": {},
   "source": [
    "Thus activity 1 , activity 4 and activity 3 has higher correlation with client retention flag"
   ]
  },
  {
   "cell_type": "code",
   "execution_count": 54,
   "metadata": {},
   "outputs": [],
   "source": [
    "# g = sns.PairGrid(activitydf)\n",
    "# g.map_diag(plt.hist)\n",
    "# g.map_offdiag(plt.scatter);"
   ]
  },
  {
   "cell_type": "code",
   "execution_count": 50,
   "metadata": {},
   "outputs": [
    {
     "data": {
      "text/plain": [
       "<matplotlib.axes._subplots.AxesSubplot at 0x1df8ce43470>"
      ]
     },
     "execution_count": 50,
     "metadata": {},
     "output_type": "execute_result"
    },
    {
     "data": {
      "image/png": "[encoded data removed]",
      "text/plain": [
       "<Figure size 720x360 with 2 Axes>"
      ]
     },
     "metadata": {
      "needs_background": "light"
     },
     "output_type": "display_data"
    }
   ],
   "source": [
    "plt.figure(figsize=(10,5))\n",
    "sns.heatmap(activitydf.corr(),annot=True)"
   ]
  },
  {
   "cell_type": "markdown",
   "metadata": {},
   "source": [
    "Activity 1 has correlation with activity 2 and activity 3<br>\n",
    "Activity 5 has correlation with activity 6 and activity 7<br>\n",
    "Activity 4 has correlation with activity 8"
   ]
  },
  {
   "cell_type": "markdown",
   "metadata": {},
   "source": [
    "# Feature importance"
   ]
  },
  {
   "cell_type": "code",
   "execution_count": 485,
   "metadata": {},
   "outputs": [
    {
     "data": {
      "text/plain": [
       "XGBClassifier(base_score=0.5, booster='gbtree', colsample_bylevel=1,\n",
       "       colsample_bytree=1, gamma=0, learning_rate=0.1, max_delta_step=0,\n",
       "       max_depth=6, min_child_weight=1, missing=None, n_estimators=500,\n",
       "       n_jobs=1, nthread=None, objective='binary:logistic', random_state=0,\n",
       "       reg_alpha=0, reg_lambda=1, scale_pos_weight=1, seed=None,\n",
       "       silent=True, subsample=1)"
      ]
     },
     "execution_count": 485,
     "metadata": {},
     "output_type": "execute_result"
    }
   ],
   "source": [
    "from xgboost import XGBClassifier, plot_importance\n",
    "xgb_fimp=XGBClassifier(n_estimators=500,max_depth=6,learning_rate=0.1)\n",
    "xgb_fimp.fit(x_train,y_train)"
   ]
  },
  {
   "cell_type": "code",
   "execution_count": 486,
   "metadata": {},
   "outputs": [],
   "source": [
    "sorted_idx = np.argsort(xgb_fimp.feature_importances_)[::-1]"
   ]
  },
  {
   "cell_type": "code",
   "execution_count": 487,
   "metadata": {},
   "outputs": [
    {
     "data": {
      "text/plain": [
       "<Figure size 1080x720 with 0 Axes>"
      ]
     },
     "metadata": {},
     "output_type": "display_data"
    },
    {
     "data": {
      "image/png": "[encoded data removed]",
      "text/plain": [
       "<Figure size 432x288 with 1 Axes>"
      ]
     },
     "metadata": {
      "needs_background": "light"
     },
     "output_type": "display_data"
    }
   ],
   "source": [
    "plt.figure(figsize=(15,10))\n",
    "plot_importance(xgb_fimp,max_num_features=30)\n",
    "plt.show()"
   ]
  },
  {
   "cell_type": "code",
   "execution_count": 488,
   "metadata": {},
   "outputs": [
    {
     "name": "stdout",
     "output_type": "stream",
     "text": [
      "['Client Contract Starting Month_Dec', 0.040467616]\n",
      "['Activity 1 Time Period 0', 0.03839808]\n",
      "['Activity 1 Time Period 4', 0.020919496]\n",
      "['Activity 4 Time Period 0', 0.02072888]\n",
      "['Activity 1 Time Period 2', 0.019502984]\n",
      "['Activity 3 Time Period 0', 0.01806029]\n",
      "['Activity 1 Time Period 5', 0.016762175]\n",
      "['Activity 1 Time Period 1', 0.016454391]\n",
      "['Activity 1 Time Period 8', 0.01594416]\n",
      "['Activity 1 Time Period 7', 0.015488014]\n",
      "['Client Contract Starting Month_Sep', 0.015347119]\n",
      "['Activity 1 Time Period 9', 0.015155938]\n",
      "['Flag 6_Government', 0.015147826]\n",
      "['Activity 1 Time Period 3', 0.014794792]\n",
      "['Flag 6_Banking, Finance & Ins', 0.014413537]\n",
      "['Activity 1 Time Period 6', 0.014335522]\n",
      "['Activity 8 Time Period 9', 0.014200128]\n",
      "['Flag 6_Education', 0.014145991]\n",
      "['Activity 8 Time Period 7', 0.014098813]\n",
      "['Activity 1 Time Period 10', 0.012756883]\n",
      "['Client Contract Starting Month_Apr', 0.012476822]\n",
      "['Flag 6_Energy & Utilities', 0.012440138]\n",
      "['Client Contract Starting Month_Jan', 0.012428892]\n",
      "['Flag 6_Retail', 0.012407176]\n",
      "['Flag 3_Yes', 0.011931924]\n",
      "['Activity 7 Time Period  1', 0.011925555]\n",
      "['Flag 6_Manufacturing', 0.011825059]\n",
      "['Activity 6 Time Period  2', 0.011448209]\n",
      "['Client Contract Starting Month_Feb', 0.011323456]\n",
      "['Activity 7 Time Period  7', 0.011307218]\n",
      "['Client Contract Starting Month_Oct', 0.010555163]\n",
      "['Flag 1_Multi Year', 0.010530243]\n",
      "['Activity 2 Time Period 1', 0.010046594]\n",
      "['Activity 1 Time Period 11', 0.009787732]\n",
      "['Flag 6_Services', 0.009505195]\n",
      "['Activity 2 Time Period 2', 0.009492915]\n",
      "['Flag 2', 0.009479569]\n",
      "['Company ID', 0.009158898]\n",
      "['Activity 2 Time Period 5', 0.008710468]\n",
      "['Activity 2 Time Period 10', 0.008629013]\n",
      "['Activity 2 Time Period 6', 0.008597749]\n",
      "['Activity 2 Time Period 7', 0.008464784]\n",
      "['Activity 2 Time Period 11', 0.008443453]\n",
      "['Activity 3 Time Period 1', 0.008413893]\n",
      "['Activity 2 Time Period 4', 0.008375336]\n",
      "['Flag 6_Technology and Telecom', 0.008274897]\n",
      "['Activity 8 Time Period 10', 0.008203478]\n",
      "['Client Contract Starting Month_Jun', 0.007922521]\n",
      "['Activity 2 Time Period 3', 0.007855702]\n",
      "['Activity 2 Time Period 8', 0.0078479]\n",
      "['Activity 3 Time Period 11', 0.007832081]\n",
      "['Activity 3 Time Period 5', 0.007818739]\n",
      "['Activity 8 Time Period 1', 0.007626853]\n",
      "['Activity 4 Time Period 8', 0.007428793]\n",
      "['Activity 4 Time Period 5', 0.0074021337]\n",
      "['Activity 4 Time Period 1', 0.0073980363]\n",
      "['Client Contract Starting Month_Jul', 0.007350167]\n",
      "['Activity 8 Time Period 4', 0.0072212378]\n",
      "['Activity 2 Time Period 9', 0.0072023203]\n",
      "['Flag 6_Healthcare', 0.007178755]\n",
      "['Client Contract Starting Month_Mar', 0.0071074055]\n",
      "['Flag 3_No', 0.0071033384]\n",
      "['Activity 8 Time Period 5', 0.007062289]\n",
      "['Activity 2 Time Period 0', 0.006984301]\n",
      "['Activity 3 Time Period 6', 0.006971337]\n",
      "['Client Contract Starting Month_May', 0.0069656298]\n",
      "['Activity 3 Time Period 4', 0.0069193495]\n",
      "['Flag 5', 0.0068318937]\n",
      "['Activity 3 Time Period 3', 0.0068140314]\n",
      "['Activity 5 Time Period  0', 0.006776103]\n",
      "['Activity 5 Time Period  3', 0.006756859]\n",
      "['Activity 3 Time Period 9', 0.006519595]\n",
      "['Activity 4 Time Period 11', 0.0064720535]\n",
      "['Activity 8 Time Period 6', 0.006471514]\n",
      "['Flag 4_Yes', 0.006207007]\n",
      "['Activity 4 Time Period 9', 0.006189747]\n",
      "['Activity 4 Time Period 10', 0.0061294353]\n",
      "['Activity 8 Time Period 3', 0.0060763587]\n",
      "['Activity 4 Time Period 6', 0.006005312]\n",
      "['Activity 4 Time Period 2', 0.0060006166]\n",
      "['Activity 4 Time Period 3', 0.0059466017]\n",
      "['Activity 5 Time Period  4', 0.005899132]\n",
      "['Activity 7 Time Period  11', 0.0057526347]\n",
      "['Client Contract Starting Month_Aug', 0.005650372]\n",
      "['Client Contract Starting Month_Nov', 0.0052792286]\n",
      "['Activity 3 Time Period 10', 0.005208784]\n",
      "['Flag 4_Unknown', 0.005177821]\n",
      "['Activity 3 Time Period 8', 0.0051487484]\n",
      "['Activity 8 Time Period 2', 0.0051239664]\n",
      "['Activity 3 Time Period 2', 0.0050434642]\n",
      "['Activity 4 Time Period 7', 0.005022843]\n",
      "['Activity 4 Time Period 4', 0.0049243006]\n",
      "['Activity 7 Time Period  0', 0.0047127795]\n",
      "['Activity 3 Time Period 7', 0.0046552652]\n",
      "['Activity 7 Time Period  2', 0.004528815]\n",
      "['Activity 7 Time Period  3', 0.0044753146]\n",
      "['Activity 8 Time Period 0', 0.004131627]\n",
      "['Activity 5 Time Period  1', 0.0040188706]\n",
      "['Activity 8 Time Period 11', 0.003805643]\n",
      "['Activity 8 Time Period 8', 0.0037755694]\n",
      "['Activity 7 Time Period  8', 0.0035042274]\n",
      "['Activity 6 Time Period  3', 0.003106462]\n",
      "['Activity 7 Time Period  6', 0.002808266]\n",
      "['Activity 5 Time Period  8', 0.0027925458]\n",
      "['Activity 6 Time Period  1', 0.0027570536]\n",
      "['Activity 5 Time Period  9', 0.002707948]\n",
      "['Activity 5 Time Period  2', 0.002655213]\n",
      "['Activity 5 Time Period  10', 0.0023674823]\n",
      "['Activity 7 Time Period  9', 0.002111919]\n",
      "['Activity 5 Time Period  6', 0.0017391691]\n",
      "['Activity 5 Time Period  11', 0.0016663254]\n",
      "['Activity 5 Time Period  5', 0.0011715161]\n",
      "['Activity 7 Time Period  10', 0.0005742177]\n",
      "['Flag 6_Unknown', 0.0]\n",
      "['Activity 5 Time Period  7', 0.0]\n",
      "['Activity 6 Time Period  11', 0.0]\n",
      "['Activity 6 Time Period  9', 0.0]\n",
      "['Activity 6 Time Period  8', 0.0]\n",
      "['Activity 6 Time Period  7', 0.0]\n",
      "['Activity 6 Time Period  6', 0.0]\n",
      "['Activity 6 Time Period  5', 0.0]\n",
      "['Activity 6 Time Period  4', 0.0]\n",
      "['Activity 6 Time Period  0', 0.0]\n",
      "['Activity 7 Time Period  5', 0.0]\n",
      "['Activity 7 Time Period  4', 0.0]\n",
      "['Flag 1_Single Year', 0.0]\n",
      "['Flag 3_C', 0.0]\n",
      "['Flag 4_No', 0.0]\n",
      "['Activity 6 Time Period  10', 0.0]\n"
     ]
    }
   ],
   "source": [
    "# for index in sorted_idx:\n",
    "#     print([x_train.columns[index], xgb.feature_importances_[index]]) \n",
    "important_feature_col=[]\n",
    "for index in sorted_idx:\n",
    "    print([x_train.columns[index], xgb_fimp.feature_importances_[index]])\n",
    "    if(xgb_fimp.feature_importances_[index]>=0.001):\n",
    "        important_feature_col.append(x_train.columns[index])"
   ]
  },
  {
   "cell_type": "code",
   "execution_count": 489,
   "metadata": {},
   "outputs": [
    {
     "name": "stdout",
     "output_type": "stream",
     "text": [
      "112\n"
     ]
    }
   ],
   "source": [
    "print(len(important_feature_col))"
   ]
  },
  {
   "cell_type": "code",
   "execution_count": 490,
   "metadata": {},
   "outputs": [],
   "source": [
    "x_train_fselected=x_train[important_feature_col]\n",
    "x_test_fselected=x_test[important_feature_col]"
   ]
  },
  {
   "cell_type": "code",
   "execution_count": 491,
   "metadata": {},
   "outputs": [
    {
     "name": "stdout",
     "output_type": "stream",
     "text": [
      "(8766, 112)\n",
      "(3756, 112)\n"
     ]
    }
   ],
   "source": [
    "print(x_train_fselected.shape)\n",
    "print(x_test_fselected.shape)"
   ]
  },
  {
   "cell_type": "code",
   "execution_count": null,
   "metadata": {},
   "outputs": [],
   "source": []
  },
  {
   "cell_type": "markdown",
   "metadata": {},
   "source": [
    "# Feature scaling"
   ]
  },
  {
   "cell_type": "code",
   "execution_count": 493,
   "metadata": {},
   "outputs": [],
   "source": [
    "from sklearn.preprocessing import MinMaxScaler\n",
    "minMaxScaler=MinMaxScaler()"
   ]
  },
  {
   "cell_type": "code",
   "execution_count": 494,
   "metadata": {},
   "outputs": [
    {
     "name": "stderr",
     "output_type": "stream",
     "text": [
      "c:\\users\\kamlesh\\appdata\\local\\programs\\python\\python36\\lib\\site-packages\\sklearn\\preprocessing\\data.py:334: DataConversionWarning: Data with input dtype uint8, int64 were all converted to float64 by MinMaxScaler.\n",
      "  return self.partial_fit(X, y)\n",
      "c:\\users\\kamlesh\\appdata\\local\\programs\\python\\python36\\lib\\site-packages\\sklearn\\preprocessing\\data.py:334: DataConversionWarning: Data with input dtype uint8, int64 were all converted to float64 by MinMaxScaler.\n",
      "  return self.partial_fit(X, y)\n"
     ]
    }
   ],
   "source": [
    "x_train_scaled=minMaxScaler.fit_transform(x_train)\n",
    "x_test_scaled=minMaxScaler.fit_transform(x_test)"
   ]
  },
  {
   "cell_type": "markdown",
   "metadata": {},
   "source": [
    "# Grid Search"
   ]
  },
  {
   "cell_type": "code",
   "execution_count": 495,
   "metadata": {},
   "outputs": [],
   "source": [
    "from sklearn.model_selection import train_test_split\n",
    "from sklearn.model_selection import GridSearchCV\n",
    "xx_train,xx_test,yy_train,yy_test=train_test_split(x_train_scaled,y_train,test_size=0.2,random_state=5)"
   ]
  },
  {
   "cell_type": "code",
   "execution_count": 496,
   "metadata": {},
   "outputs": [],
   "source": [
    "param_grid={'max_depth':range(6,10,2),'n_estimators':[400,500],'learning_rate':[0.1,0.01]}"
   ]
  },
  {
   "cell_type": "code",
   "execution_count": 236,
   "metadata": {},
   "outputs": [
    {
     "name": "stderr",
     "output_type": "stream",
     "text": [
      "c:\\users\\kamlesh\\appdata\\local\\programs\\python\\python36\\lib\\site-packages\\sklearn\\model_selection\\_split.py:2053: FutureWarning: You should specify a value for 'cv' instead of relying on the default value. The default value will change from 3 to 5 in version 0.22.\n",
      "  warnings.warn(CV_WARNING, FutureWarning)\n",
      "[Parallel(n_jobs=4)]: Using backend LokyBackend with 4 concurrent workers.\n"
     ]
    },
    {
     "name": "stdout",
     "output_type": "stream",
     "text": [
      "Fitting 3 folds for each of 8 candidates, totalling 24 fits\n"
     ]
    },
    {
     "name": "stderr",
     "output_type": "stream",
     "text": [
      "[Parallel(n_jobs=4)]: Done  17 tasks      | elapsed:  5.3min\n",
      "[Parallel(n_jobs=4)]: Done  24 out of  24 | elapsed:  7.3min remaining:    0.0s\n",
      "[Parallel(n_jobs=4)]: Done  24 out of  24 | elapsed:  7.3min finished\n"
     ]
    },
    {
     "data": {
      "text/plain": [
       "GridSearchCV(cv='warn', error_score='raise-deprecating',\n",
       "       estimator=XGBClassifier(base_score=0.5, booster='gbtree', colsample_bylevel=1,\n",
       "       colsample_bytree=1, gamma=0, learning_rate=0.1, max_delta_step=0,\n",
       "       max_depth=3, min_child_weight=1, missing=None, n_estimators=100,\n",
       "       n_jobs=1, nthread=None, objective='binary:logistic', random_state=0,\n",
       "       reg_alpha=0, reg_lambda=1, scale_pos_weight=1, seed=None,\n",
       "       silent=True, subsample=1),\n",
       "       fit_params=None, iid='warn', n_jobs=4,\n",
       "       param_grid={'max_depth': range(6, 10, 2), 'n_estimators': [400, 500], 'learning_rate': [0.1, 0.01]},\n",
       "       pre_dispatch='2*n_jobs', refit=True, return_train_score='warn',\n",
       "       scoring='f1', verbose=4)"
      ]
     },
     "execution_count": 236,
     "metadata": {},
     "output_type": "execute_result"
    }
   ],
   "source": [
    "grid = GridSearchCV(estimator = XGBClassifier(),param_grid=param_grid,scoring='f1',refit=True,verbose=4,n_jobs=4)\n",
    "grid.fit(xx_train,yy_train)"
   ]
  },
  {
   "cell_type": "code",
   "execution_count": 233,
   "metadata": {},
   "outputs": [],
   "source": [
    "# import sklearn\n",
    "# sorted(sklearn.metrics.SCORERS.keys())"
   ]
  },
  {
   "cell_type": "code",
   "execution_count": 237,
   "metadata": {},
   "outputs": [
    {
     "data": {
      "text/plain": [
       "{'learning_rate': 0.1, 'max_depth': 6, 'n_estimators': 500}"
      ]
     },
     "execution_count": 237,
     "metadata": {},
     "output_type": "execute_result"
    }
   ],
   "source": [
    "grid.best_params_\n",
    "#learning_rate=0.1, max_depth=7, n_estimators=500, score=0.9206847122555226\n",
    "#learning_rate=0.1, max_depth=5, n_estimators=500, score=0.9191545307443366"
   ]
  },
  {
   "cell_type": "markdown",
   "metadata": {},
   "source": [
    "# Predictive Model for train data"
   ]
  },
  {
   "cell_type": "code",
   "execution_count": 497,
   "metadata": {},
   "outputs": [],
   "source": [
    "from sklearn.metrics import confusion_matrix,classification_report"
   ]
  },
  {
   "cell_type": "code",
   "execution_count": 426,
   "metadata": {},
   "outputs": [],
   "source": [
    "train_model=XGBClassifier(n_estimators=500,max_depth=6,learning_rate=0.1)"
   ]
  },
  {
   "cell_type": "code",
   "execution_count": 427,
   "metadata": {},
   "outputs": [
    {
     "data": {
      "text/plain": [
       "XGBClassifier(base_score=0.5, booster='gbtree', colsample_bylevel=1,\n",
       "       colsample_bytree=1, gamma=0, learning_rate=0.1, max_delta_step=0,\n",
       "       max_depth=6, min_child_weight=1, missing=None, n_estimators=500,\n",
       "       n_jobs=1, nthread=None, objective='binary:logistic', random_state=0,\n",
       "       reg_alpha=0, reg_lambda=1, scale_pos_weight=1, seed=None,\n",
       "       silent=True, subsample=1)"
      ]
     },
     "execution_count": 427,
     "metadata": {},
     "output_type": "execute_result"
    }
   ],
   "source": [
    "train_model.fit(xx_train,yy_train)"
   ]
  },
  {
   "cell_type": "code",
   "execution_count": 428,
   "metadata": {},
   "outputs": [],
   "source": [
    "yy_test_predict=train_model.predict(xx_test)"
   ]
  },
  {
   "cell_type": "code",
   "execution_count": 429,
   "metadata": {},
   "outputs": [
    {
     "data": {
      "text/plain": [
       "<matplotlib.axes._subplots.AxesSubplot at 0x25991f56f28>"
      ]
     },
     "execution_count": 429,
     "metadata": {},
     "output_type": "execute_result"
    },
    {
     "data": {
      "image/png": "[encoded data removed]",
      "text/plain": [
       "<Figure size 432x288 with 2 Axes>"
      ]
     },
     "metadata": {
      "needs_background": "light"
     },
     "output_type": "display_data"
    }
   ],
   "source": [
    "cm=confusion_matrix(yy_test,yy_test_predict)\n",
    "sns.heatmap(cm,annot=True,fmt='g')"
   ]
  },
  {
   "cell_type": "code",
   "execution_count": 430,
   "metadata": {},
   "outputs": [
    {
     "data": {
      "text/plain": [
       "'              precision    recall  f1-score   support\\n\\n           0       0.89      0.64      0.74       526\\n           1       0.86      0.97      0.91      1228\\n\\n   micro avg       0.87      0.87      0.87      1754\\n   macro avg       0.88      0.80      0.83      1754\\nweighted avg       0.87      0.87      0.86      1754\\n'"
      ]
     },
     "execution_count": 430,
     "metadata": {},
     "output_type": "execute_result"
    }
   ],
   "source": [
    "classification_report(yy_test,yy_test_predict)"
   ]
  },
  {
   "cell_type": "markdown",
   "metadata": {},
   "source": [
    "# Predictive XGB model for test data"
   ]
  },
  {
   "cell_type": "code",
   "execution_count": 498,
   "metadata": {},
   "outputs": [
    {
     "data": {
      "text/plain": [
       "XGBClassifier(base_score=0.5, booster='gbtree', colsample_bylevel=1,\n",
       "       colsample_bytree=1, gamma=0, learning_rate=0.1, max_delta_step=0,\n",
       "       max_depth=10, min_child_weight=1, missing=None, n_estimators=1000,\n",
       "       n_jobs=1, nthread=None, objective='binary:logistic', random_state=0,\n",
       "       reg_alpha=0, reg_lambda=1, scale_pos_weight=1, seed=None,\n",
       "       silent=True, subsample=1)"
      ]
     },
     "execution_count": 498,
     "metadata": {},
     "output_type": "execute_result"
    }
   ],
   "source": [
    "from xgboost.sklearn import XGBClassifier\n",
    "xgb=XGBClassifier(n_estimators=1000,max_depth=10,learning_rate=0.1)\n",
    "xgb.fit(x_train_scaled,y_train)"
   ]
  },
  {
   "cell_type": "code",
   "execution_count": 499,
   "metadata": {},
   "outputs": [],
   "source": [
    "# y_test_predict_probab=xgb.predict_proba(x_test)[:,1]\n",
    "y_test_predict=xgb.predict(x_test_scaled)"
   ]
  },
  {
   "cell_type": "markdown",
   "metadata": {},
   "source": [
    "# Sample submission"
   ]
  },
  {
   "cell_type": "code",
   "execution_count": 500,
   "metadata": {},
   "outputs": [],
   "source": [
    "sample_submission=pd.read_csv('Sample_Submission.csv')"
   ]
  },
  {
   "cell_type": "code",
   "execution_count": 501,
   "metadata": {},
   "outputs": [
    {
     "data": {
      "text/html": [
       "<div>\n",
       "<style scoped>\n",
       "    .dataframe tbody tr th:only-of-type {\n",
       "        vertical-align: middle;\n",
       "    }\n",
       "\n",
       "    .dataframe tbody tr th {\n",
       "        vertical-align: top;\n",
       "    }\n",
       "\n",
       "    .dataframe thead th {\n",
       "        text-align: right;\n",
       "    }\n",
       "</style>\n",
       "<table border=\"1\" class=\"dataframe\">\n",
       "  <thead>\n",
       "    <tr style=\"text-align: right;\">\n",
       "      <th></th>\n",
       "      <th>Client ID</th>\n",
       "      <th>Client Retention Flag</th>\n",
       "    </tr>\n",
       "  </thead>\n",
       "  <tbody>\n",
       "    <tr>\n",
       "      <th>0</th>\n",
       "      <td>1000123456</td>\n",
       "      <td>No</td>\n",
       "    </tr>\n",
       "    <tr>\n",
       "      <th>1</th>\n",
       "      <td>1000123457</td>\n",
       "      <td>No</td>\n",
       "    </tr>\n",
       "    <tr>\n",
       "      <th>2</th>\n",
       "      <td>1000123458</td>\n",
       "      <td>Yes</td>\n",
       "    </tr>\n",
       "    <tr>\n",
       "      <th>3</th>\n",
       "      <td>1000123459</td>\n",
       "      <td>Yes</td>\n",
       "    </tr>\n",
       "  </tbody>\n",
       "</table>\n",
       "</div>"
      ],
      "text/plain": [
       "    Client ID Client Retention Flag\n",
       "0  1000123456                    No\n",
       "1  1000123457                    No\n",
       "2  1000123458                   Yes\n",
       "3  1000123459                   Yes"
      ]
     },
     "execution_count": 501,
     "metadata": {},
     "output_type": "execute_result"
    }
   ],
   "source": [
    "sample_submission.head()"
   ]
  },
  {
   "cell_type": "markdown",
   "metadata": {},
   "source": [
    "# Test output"
   ]
  },
  {
   "cell_type": "code",
   "execution_count": 502,
   "metadata": {},
   "outputs": [],
   "source": [
    "test_output=pd.DataFrame(columns=['Client ID','Client Retention Flag'],index=None)\n",
    "test_output['Client ID']=test['Client ID']\n",
    "test_output['Client Retention Flag']=y_test_predict\n",
    "#test_output.to_csv('output2.csv')"
   ]
  },
  {
   "cell_type": "code",
   "execution_count": 503,
   "metadata": {},
   "outputs": [
    {
     "data": {
      "text/html": [
       "<div>\n",
       "<style scoped>\n",
       "    .dataframe tbody tr th:only-of-type {\n",
       "        vertical-align: middle;\n",
       "    }\n",
       "\n",
       "    .dataframe tbody tr th {\n",
       "        vertical-align: top;\n",
       "    }\n",
       "\n",
       "    .dataframe thead th {\n",
       "        text-align: right;\n",
       "    }\n",
       "</style>\n",
       "<table border=\"1\" class=\"dataframe\">\n",
       "  <thead>\n",
       "    <tr style=\"text-align: right;\">\n",
       "      <th></th>\n",
       "      <th>Client ID</th>\n",
       "      <th>Client Retention Flag</th>\n",
       "    </tr>\n",
       "  </thead>\n",
       "  <tbody>\n",
       "    <tr>\n",
       "      <th>0</th>\n",
       "      <td>10004520718</td>\n",
       "      <td>1</td>\n",
       "    </tr>\n",
       "    <tr>\n",
       "      <th>1</th>\n",
       "      <td>10004519187</td>\n",
       "      <td>1</td>\n",
       "    </tr>\n",
       "    <tr>\n",
       "      <th>2</th>\n",
       "      <td>10004515634</td>\n",
       "      <td>1</td>\n",
       "    </tr>\n",
       "    <tr>\n",
       "      <th>3</th>\n",
       "      <td>10004512321</td>\n",
       "      <td>0</td>\n",
       "    </tr>\n",
       "    <tr>\n",
       "      <th>4</th>\n",
       "      <td>10004518550</td>\n",
       "      <td>1</td>\n",
       "    </tr>\n",
       "  </tbody>\n",
       "</table>\n",
       "</div>"
      ],
      "text/plain": [
       "     Client ID  Client Retention Flag\n",
       "0  10004520718                      1\n",
       "1  10004519187                      1\n",
       "2  10004515634                      1\n",
       "3  10004512321                      0\n",
       "4  10004518550                      1"
      ]
     },
     "execution_count": 503,
     "metadata": {},
     "output_type": "execute_result"
    }
   ],
   "source": [
    "test_output.head()"
   ]
  },
  {
   "cell_type": "code",
   "execution_count": 504,
   "metadata": {},
   "outputs": [],
   "source": [
    "di = {1: \"Yes\", 0: \"No\"}"
   ]
  },
  {
   "cell_type": "code",
   "execution_count": 505,
   "metadata": {},
   "outputs": [],
   "source": [
    "test_output['Client Retention Flag']=test_output['Client Retention Flag'].map(di) "
   ]
  },
  {
   "cell_type": "code",
   "execution_count": 506,
   "metadata": {},
   "outputs": [
    {
     "data": {
      "text/html": [
       "<div>\n",
       "<style scoped>\n",
       "    .dataframe tbody tr th:only-of-type {\n",
       "        vertical-align: middle;\n",
       "    }\n",
       "\n",
       "    .dataframe tbody tr th {\n",
       "        vertical-align: top;\n",
       "    }\n",
       "\n",
       "    .dataframe thead th {\n",
       "        text-align: right;\n",
       "    }\n",
       "</style>\n",
       "<table border=\"1\" class=\"dataframe\">\n",
       "  <thead>\n",
       "    <tr style=\"text-align: right;\">\n",
       "      <th></th>\n",
       "      <th>Client ID</th>\n",
       "      <th>Client Retention Flag</th>\n",
       "    </tr>\n",
       "  </thead>\n",
       "  <tbody>\n",
       "    <tr>\n",
       "      <th>0</th>\n",
       "      <td>10004520718</td>\n",
       "      <td>Yes</td>\n",
       "    </tr>\n",
       "    <tr>\n",
       "      <th>1</th>\n",
       "      <td>10004519187</td>\n",
       "      <td>Yes</td>\n",
       "    </tr>\n",
       "    <tr>\n",
       "      <th>2</th>\n",
       "      <td>10004515634</td>\n",
       "      <td>Yes</td>\n",
       "    </tr>\n",
       "    <tr>\n",
       "      <th>3</th>\n",
       "      <td>10004512321</td>\n",
       "      <td>No</td>\n",
       "    </tr>\n",
       "    <tr>\n",
       "      <th>4</th>\n",
       "      <td>10004518550</td>\n",
       "      <td>Yes</td>\n",
       "    </tr>\n",
       "  </tbody>\n",
       "</table>\n",
       "</div>"
      ],
      "text/plain": [
       "     Client ID Client Retention Flag\n",
       "0  10004520718                   Yes\n",
       "1  10004519187                   Yes\n",
       "2  10004515634                   Yes\n",
       "3  10004512321                    No\n",
       "4  10004518550                   Yes"
      ]
     },
     "execution_count": 506,
     "metadata": {},
     "output_type": "execute_result"
    }
   ],
   "source": [
    "test_output.head()"
   ]
  },
  {
   "cell_type": "code",
   "execution_count": 507,
   "metadata": {},
   "outputs": [],
   "source": [
    "test_output.to_csv('output_7.csv',index=False)"
   ]
  }
 ],
 "metadata": {
  "kernelspec": {
   "display_name": "Python 3",
   "language": "python",
   "name": "python3"
  },
  "language_info": {
   "codemirror_mode": {
    "name": "ipython",
    "version": 3
   },
   "file_extension": ".py",
   "mimetype": "text/x-python",
   "name": "python",
   "nbconvert_exporter": "python",
   "pygments_lexer": "ipython3",
   "version": "3.6.8"
  }
 },
 "nbformat": 4,
 "nbformat_minor": 2
}
